{
 "cells": [
  {
   "cell_type": "markdown",
   "metadata": {},
   "source": [
    "# Aligning linkage maps to scaffolds\n",
    "\n",
    "Here I will take the 17235 linkage mapped RADtags from the 9 families of RADseq, and align them to the scaffolds of the Rtemp PacBio and Optical mapping hybrid assembly. \n",
    "\n",
    "I will take this reasonably slowly, as we know that the assembly is extremely heterozygous, so the tags are likely to align to more than one position if that position is represented by two scaffolds in the assembly. . . \n",
    "\n",
    "Usually, tags will align to many different places, due to the high repeat content of the genome, so our usual criteria on which to keep an alignment if it aligns either uniquely (uncommon), or if the best hit for a given tag has an e-value which is 1e-05 better than any other hit. In this case however, we should also consider alignments where there are 2 hits which are 1e-05 better than the rest. These could represent the two scaffolds for a given region. We can then examine the tags which map to two scaffolds with high fidelity, and see if those two scaffolds are often aligned to by many tags. . . . if so, then we can keep them. Or perhaps just choose one for ALLMAPS (the one with the most hits) and manually assign the other with the same position. \n",
    "\n",
    "Lets go . . . "
   ]
  },
  {
   "cell_type": "code",
   "execution_count": 1,
   "metadata": {
    "collapsed": true
   },
   "outputs": [],
   "source": [
    "from __future__ import division\n",
    "\n",
    "import numpy as np"
   ]
  },
  {
   "cell_type": "markdown",
   "metadata": {},
   "source": [
    "### Aligning RADtags to the genome"
   ]
  },
  {
   "cell_type": "markdown",
   "metadata": {},
   "source": [
    "Alignment was done on the cluster. Here are the results after filtering using the usual 1e-5 e-value difference between best and 2nd best hit, and the overall 1e-20 cut off.\n",
    "\n",
    "```\n",
    "Number of multi-alingments kept: 1629\n",
    "Number of unique alingments kept: 1214\n",
    "Total = 2843 alignments\n",
    "```"
   ]
  },
  {
   "cell_type": "markdown",
   "metadata": {},
   "source": [
    "So keeping only things that mapped uniquely with an e-value of 1e-20 or lower, or things that mapped to multiple places with a clear \"best\" hit, we retain only 33% of our alignments. So I would like to try to improve this alignment rate to see if I can relax the filters on the alignments.\n"
   ]
  },
  {
   "cell_type": "markdown",
   "metadata": {},
   "source": [
    "## Testing alignment filters\n",
    "\n",
    "We have always somewhat arbitrarily used 1e-5 for the difference between the first and second hits. And 1e-20 for the overall cut off. These thresholds give good results, but may be too stringent for intra-specific data. With the linkage map, I have an opportunity to test how accurate these mappings are. The assumption is that if a scaffold has more than several tags on it, then those tags should be next to eachother on the map. If they are not, then they are probably erroneous mappings. So I can quantify the accuracy of the mappings for different filtering parameters, e.g. 1e-5, 1e-4, 1e-3 for the difference threshold etc."
   ]
  },
  {
   "cell_type": "markdown",
   "metadata": {},
   "source": [
    "First I'll define some functions to make this streamlined."
   ]
  },
  {
   "cell_type": "code",
   "execution_count": 12,
   "metadata": {
    "collapsed": true
   },
   "outputs": [],
   "source": [
    "## Function to get the information from the linkage map\n",
    "\n",
    "def Get_LM_info(LM_path, real_tag_IDs):\n",
    "    \n",
    "    LM = open(LM_path, 'r').readlines()\n",
    "\n",
    "    Linkage_map_dict = {}\n",
    "    \n",
    "    print len(LM)\n",
    "\n",
    "    for tag in LM[1:]:\n",
    "        #print tag\n",
    "        tag_ID = tag.split()[0]  ## remember this needs to be converted to the \"real\" tag_ID\n",
    "        real_tag_ID = real_tag_IDs[tag_ID.strip()]\n",
    "        LG = tag.split()[1]\n",
    "        POS = tag.split()[2]\n",
    "\n",
    "        Linkage_map_dict[real_tag_ID] = {}\n",
    "        Linkage_map_dict[real_tag_ID][\"LG\"] = LG\n",
    "        Linkage_map_dict[real_tag_ID][\"POS\"] = POS\n",
    "        \n",
    "    return Linkage_map_dict\n",
    "        \n"
   ]
  },
  {
   "cell_type": "code",
   "execution_count": 1,
   "metadata": {
    "collapsed": true
   },
   "outputs": [],
   "source": [
    "def evaluate_mapping_efficiency(blast_outs_path, linkage_map_path, Genome_fasta, N_min_mappings, evalue_thresh, best_hit_criteria):\n",
    "    \n",
    "    from collections import Counter\n",
    "    import operator\n",
    "\n",
    "    \n",
    "    ## filter blast hits\n",
    "    \n",
    "    window = 2000\n",
    "    get_frags = 0\n",
    "    verb = 1\n",
    "\n",
    "    Kept_blast_records = MISC.BlastParseExtra(blast_outs_path, Genome_fasta, best_hit_criteria, evalue_thresh, get_frags, window, 1)\n",
    "\n",
    "    ## Get linkage map information\n",
    "    \n",
    "    Linkage_map_dict = Get_LM_info(linkage_map_path, real_tag_IDs)\n",
    "    \n",
    "    ## compile alignment and linkage mapping info for each tag into a single dictionary\n",
    "\n",
    "    Blast_plus_LM_info = {}\n",
    "\n",
    "    for tag in Kept_blast_records:\n",
    "        if tag in Linkage_map_dict:\n",
    "            Blast_plus_LM_info[tag] = {}\n",
    "            Blast_plus_LM_info[tag][\"scaff\"] = Kept_blast_records[tag][\"Ref_hit_id\"]\n",
    "            Blast_plus_LM_info[tag][\"STRT\"] = Kept_blast_records[tag][\"Hit_start_coord\"]\n",
    "            Blast_plus_LM_info[tag][\"LG\"] = Linkage_map_dict[tag][\"LG\"]\n",
    "            Blast_plus_LM_info[tag][\"POS\"] = Linkage_map_dict[tag][\"POS\"]\n",
    "    \n",
    "    \n",
    "    ## get per scaffold information\n",
    "    \n",
    "    scaff_dict = {}\n",
    "    for record in Blast_plus_LM_info:\n",
    "        if Blast_plus_LM_info[record][\"scaff\"] not in scaff_dict:\n",
    "            scaff_dict[Blast_plus_LM_info[record][\"scaff\"]] = {}\n",
    "            scaff_dict[Blast_plus_LM_info[record][\"scaff\"]][record] = {}\n",
    "            scaff_dict[Blast_plus_LM_info[record][\"scaff\"]][record][\"LG\"] = Blast_plus_LM_info[record][\"LG\"]\n",
    "            scaff_dict[Blast_plus_LM_info[record][\"scaff\"]][record][\"POS\"] = Blast_plus_LM_info[record][\"POS\"]\n",
    "        else:\n",
    "            scaff_dict[Blast_plus_LM_info[record][\"scaff\"]][record] = {}\n",
    "            scaff_dict[Blast_plus_LM_info[record][\"scaff\"]][record][\"LG\"] = Blast_plus_LM_info[record][\"LG\"]\n",
    "            scaff_dict[Blast_plus_LM_info[record][\"scaff\"]][record][\"POS\"] = Blast_plus_LM_info[record][\"POS\"]\n",
    "\n",
    "    \n",
    "    ## keep only scaffolds with <N_min_mappings> hits\n",
    "    \n",
    "    scaff_dict_kept = {}\n",
    "\n",
    "    for scaff in scaff_dict:\n",
    "        if len(scaff_dict[scaff]) >= N_min_mappings:\n",
    "            scaff_dict_kept[scaff] = scaff_dict[scaff]\n",
    "            \n",
    "\n",
    "    ## Now count the number of LOCI that don't match the consensus LG for each scaffold\n",
    "    \n",
    "    N_non_consensus_loci = 0\n",
    "    N_consensus_loci = 0\n",
    "    \n",
    "    ## get the consensus LG for each scaffold (most common LG)\n",
    "    \n",
    "    for scaff in scaff_dict_kept:\n",
    "        LGs = []\n",
    "        for record in scaff_dict_kept[scaff]:\n",
    "            LGs.append(scaff_dict_kept[scaff][record][\"LG\"])\n",
    "\n",
    "        LG_counts = Counter(LGs)\n",
    "        consensus_LG = max(LG_counts.iteritems(), key=operator.itemgetter(1))[0]  ## the LG with the highest number of mappings to that scaffold\n",
    "        N_non_consensus_markers = len(LGs) - LG_counts[consensus_LG]\n",
    "        \n",
    "        N_consensus_loci += LG_counts[consensus_LG]\n",
    "        N_non_consensus_loci += N_non_consensus_markers\n",
    "            \n",
    "    ## Now count the number of different linkage groups which have been mapped to the same scaffold\n",
    "    \n",
    "#    consensus_values = []\n",
    "#    for scaff in scaff_dict_kept:\n",
    "#        LGs = []\n",
    "#        for record in scaff_dict_kept[scaff]:\n",
    "#            LGs.append(scaff_dict_kept[scaff][record][\"LG\"])\n",
    "#\n",
    "#        LG_counts = Counter(LGs)\n",
    "#        consensus_LG = max(LG_counts.iteritems(), key=operator.itemgetter(1))[0]  ## the LG with the highest number of mappings to that scaffold\n",
    "#\n",
    "#   \n",
    "#            \n",
    "#        consensus_value = LG_counts[consensus_LG] / sum(LG_counts.values())\n",
    "#\n",
    "#        consensus_values.append(consensus_value)\n",
    "\n",
    "\n",
    "    ### Outputs\n",
    "\n",
    "    N_mapped_markers = len(Kept_blast_records)\n",
    "    N_scaffolds_mapped_to = len(scaff_dict)\n",
    "    N_scaffs_over_10 = len(scaff_dict_kept)\n",
    "    #mean_consensuses = np.mean(consensus_values)\n",
    "    Proportion_consensus_loci = N_consensus_loci/(N_consensus_loci+N_non_consensus_loci)\n",
    "    \n",
    "    \n",
    "    print \"Total N mapped markers:\", N_mapped_markers\n",
    "    print \"N scaffolds mapped to:\", N_scaffolds_mapped_to\n",
    "    print \"N scaffolds with >%s mappings: %s\" % (N_min_mappings, N_scaffs_over_10)\n",
    "    #print \"Mean consesnsus value: %.3f\" % mean_consensuses\n",
    "    print \"N loci on retained scaffolds: %s\" % (N_consensus_loci+N_non_consensus_loci)\n",
    "    print \"Proportion of consensus loci: %.3f\" % Proportion_consensus_loci"
   ]
  },
  {
   "cell_type": "markdown",
   "metadata": {},
   "source": [
    "### Now test the mapping efficiency for parameters below:\n",
    "\n",
    "Testing difference threshold:\n",
    "\n",
    "```\n",
    "evalue_threshold = 1e-20\n",
    "best_hit_threshold = 1e-5\n",
    "\n",
    "evalue_threshold = 1e-20\n",
    "best_hit_threshold = 1e-4\n",
    "\n",
    "evalue_threshold = 1e-20\n",
    "best_hit_threshold = 1e-3\n",
    "\n",
    "evalue_threshold = 1e-20\n",
    "best_hit_threshold = 1e-2\n",
    "```\n",
    "\n",
    "Testing absolute e-value threshold:\n",
    "\n",
    "```\n",
    "evalue_threshold = 1e-18\n",
    "best_hit_threshold = 1e-5\n",
    "\n",
    "evalue_threshold = 1e-16\n",
    "best_hit_threshold = 1e-5\n",
    "\n",
    "evalue_threshold = 1e-14\n",
    "best_hit_threshold = 1e-5\n",
    "```\n",
    "\n"
   ]
  },
  {
   "cell_type": "code",
   "execution_count": 87,
   "metadata": {},
   "outputs": [
    {
     "name": "stdout",
     "output_type": "stream",
     "text": [
      "Number of multi-alingments kept: 1629\n",
      "Number of unique alingments kept: 1214\n",
      "11305\n",
      "Total N mapped markers: 2843\n",
      "N scaffolds mapped to: 1371\n",
      "N scaffolds with >5 mappings: 116\n",
      "N loci on retained scaffolds: 889\n",
      "Proportion of consensus loci: 0.996\n"
     ]
    }
   ],
   "source": [
    "blast_outs_path = \"/home/djeffrie/Data/Genomes/Rtemp_hybrid/Meitriele_Linkage_map/Mapped_tags_fasta/SbfI_blastouts.xml\"\n",
    "linkage_map_path = \"/home/djeffrie/Data/Genomes/Rtemp_hybrid/Meitriele_Linkage_map/LepMap_Fem_linkage_map/map_20_js_19_ordered_InfMask_2_FEMALE_genetic_mapper.dat\"\n",
    "Genome_path = \"/home/djeffrie/Data/Genomes/Rtemp_hybrid/Rana_PB_OM_SCAFFOLDED_and_NOT_SCAFFOLDED_concat.fasta\"\n",
    "N_mappings_min = 5\n",
    "evalue_threshold = 1e-20\n",
    "best_hit_threshold = 1e-5\n",
    "\n",
    "evaluate_mapping_efficiency(blast_outs_path, linkage_map_path, Genome_path, N_mappings_min, evalue_threshold, best_hit_threshold)\n"
   ]
  },
  {
   "cell_type": "code",
   "execution_count": 88,
   "metadata": {},
   "outputs": [
    {
     "name": "stdout",
     "output_type": "stream",
     "text": [
      "Number of multi-alingments kept: 1686\n",
      "Number of unique alingments kept: 1214\n",
      "11305\n",
      "Total N mapped markers: 2900\n",
      "N scaffolds mapped to: 1390\n",
      "N scaffolds with >5 mappings: 118\n",
      "N loci on retained scaffolds: 904\n",
      "Proportion of consensus loci: 0.996\n"
     ]
    }
   ],
   "source": [
    "blast_outs_path = \"/home/djeffrie/Data/Genomes/Rtemp_hybrid/Meitriele_Linkage_map/Mapped_tags_fasta/SbfI_blastouts.xml\"\n",
    "linkage_map_path = \"/home/djeffrie/Data/Genomes/Rtemp_hybrid/Meitriele_Linkage_map/LepMap_Fem_linkage_map/map_20_js_19_ordered_InfMask_2_FEMALE_genetic_mapper.dat\"\n",
    "Genome_path = \"/home/djeffrie/Data/Genomes/Rtemp_hybrid/Rana_PB_OM_SCAFFOLDED_and_NOT_SCAFFOLDED_concat.fasta\"\n",
    "N_mappings_min = 5\n",
    "evalue_threshold = 1e-20\n",
    "best_hit_threshold = 1e-4\n",
    "\n",
    "evaluate_mapping_efficiency(blast_outs_path, linkage_map_path, Genome_path, N_mappings_min, evalue_threshold, best_hit_threshold)\n"
   ]
  },
  {
   "cell_type": "code",
   "execution_count": 89,
   "metadata": {},
   "outputs": [
    {
     "name": "stdout",
     "output_type": "stream",
     "text": [
      "Number of multi-alingments kept: 2197\n",
      "Number of unique alingments kept: 1214\n",
      "11305\n",
      "Total N mapped markers: 3411\n",
      "N scaffolds mapped to: 1610\n",
      "N scaffolds with >5 mappings: 136\n",
      "N loci on retained scaffolds: 1073\n",
      "Proportion of consensus loci: 0.993\n"
     ]
    }
   ],
   "source": [
    "blast_outs_path = \"/home/djeffrie/Data/Genomes/Rtemp_hybrid/Meitriele_Linkage_map/Mapped_tags_fasta/SbfI_blastouts.xml\"\n",
    "linkage_map_path = \"/home/djeffrie/Data/Genomes/Rtemp_hybrid/Meitriele_Linkage_map/LepMap_Fem_linkage_map/map_20_js_19_ordered_InfMask_2_FEMALE_genetic_mapper.dat\"\n",
    "Genome_path = \"/home/djeffrie/Data/Genomes/Rtemp_hybrid/Rana_PB_OM_SCAFFOLDED_and_NOT_SCAFFOLDED_concat.fasta\"\n",
    "N_mappings_min = 5\n",
    "evalue_threshold = 1e-20\n",
    "best_hit_threshold = 1e-3\n",
    "\n",
    "evaluate_mapping_efficiency(blast_outs_path, linkage_map_path, Genome_path, N_mappings_min, evalue_threshold, best_hit_threshold)\n"
   ]
  },
  {
   "cell_type": "code",
   "execution_count": 90,
   "metadata": {},
   "outputs": [
    {
     "name": "stdout",
     "output_type": "stream",
     "text": [
      "Number of multi-alingments kept: 2440\n",
      "Number of unique alingments kept: 1214\n",
      "11305\n",
      "Total N mapped markers: 3654\n",
      "N scaffolds mapped to: 1711\n",
      "N scaffolds with >5 mappings: 149\n",
      "N loci on retained scaffolds: 1170\n",
      "Proportion of consensus loci: 0.989\n"
     ]
    }
   ],
   "source": [
    "blast_outs_path = \"/home/djeffrie/Data/Genomes/Rtemp_hybrid/Meitriele_Linkage_map/Mapped_tags_fasta/SbfI_blastouts.xml\"\n",
    "linkage_map_path = \"/home/djeffrie/Data/Genomes/Rtemp_hybrid/Meitriele_Linkage_map/LepMap_Fem_linkage_map/map_20_js_19_ordered_InfMask_2_FEMALE_genetic_mapper.dat\"\n",
    "Genome_path = \"/home/djeffrie/Data/Genomes/Rtemp_hybrid/Rana_PB_OM_SCAFFOLDED_and_NOT_SCAFFOLDED_concat.fasta\"\n",
    "N_mappings_min = 5\n",
    "evalue_threshold = 1e-20\n",
    "best_hit_threshold = 1e-2\n",
    "\n",
    "evaluate_mapping_efficiency(blast_outs_path, linkage_map_path, Genome_path, N_mappings_min, evalue_threshold, best_hit_threshold)\n"
   ]
  },
  {
   "cell_type": "code",
   "execution_count": 91,
   "metadata": {},
   "outputs": [
    {
     "name": "stdout",
     "output_type": "stream",
     "text": [
      "Number of multi-alingments kept: 3650\n",
      "Number of unique alingments kept: 1214\n",
      "11305\n",
      "Total N mapped markers: 4864\n",
      "N scaffolds mapped to: 2191\n",
      "N scaffolds with >5 mappings: 224\n",
      "N loci on retained scaffolds: 1711\n",
      "Proportion of consensus loci: 0.976\n"
     ]
    }
   ],
   "source": [
    "blast_outs_path = \"/home/djeffrie/Data/Genomes/Rtemp_hybrid/Meitriele_Linkage_map/Mapped_tags_fasta/SbfI_blastouts.xml\"\n",
    "linkage_map_path = \"/home/djeffrie/Data/Genomes/Rtemp_hybrid/Meitriele_Linkage_map/LepMap_Fem_linkage_map/map_20_js_19_ordered_InfMask_2_FEMALE_genetic_mapper.dat\"\n",
    "Genome_path = \"/home/djeffrie/Data/Genomes/Rtemp_hybrid/Rana_PB_OM_SCAFFOLDED_and_NOT_SCAFFOLDED_concat.fasta\"\n",
    "N_mappings_min = 5\n",
    "evalue_threshold = 1e-20\n",
    "best_hit_threshold = 1e-1\n",
    "\n",
    "evaluate_mapping_efficiency(blast_outs_path, linkage_map_path, Genome_path, N_mappings_min, evalue_threshold, best_hit_threshold)\n"
   ]
  },
  {
   "cell_type": "code",
   "execution_count": 92,
   "metadata": {},
   "outputs": [
    {
     "name": "stdout",
     "output_type": "stream",
     "text": [
      "Number of multi-alingments kept: 1630\n",
      "Number of unique alingments kept: 1214\n",
      "11305\n",
      "Total N mapped markers: 2844\n",
      "N scaffolds mapped to: 1372\n",
      "N scaffolds with >5 mappings: 116\n",
      "N loci on retained scaffolds: 889\n",
      "Proportion of consensus loci: 0.996\n"
     ]
    }
   ],
   "source": [
    "blast_outs_path = \"/home/djeffrie/Data/Genomes/Rtemp_hybrid/Meitriele_Linkage_map/Mapped_tags_fasta/SbfI_blastouts.xml\"\n",
    "linkage_map_path = \"/home/djeffrie/Data/Genomes/Rtemp_hybrid/Meitriele_Linkage_map/LepMap_Fem_linkage_map/map_20_js_19_ordered_InfMask_2_FEMALE_genetic_mapper.dat\"\n",
    "Genome_path = \"/home/djeffrie/Data/Genomes/Rtemp_hybrid/Rana_PB_OM_SCAFFOLDED_and_NOT_SCAFFOLDED_concat.fasta\"\n",
    "N_mappings_min = 5\n",
    "evalue_threshold = 1e-18\n",
    "best_hit_threshold = 1e-5\n",
    "\n",
    "evaluate_mapping_efficiency(blast_outs_path, linkage_map_path, Genome_path, N_mappings_min, evalue_threshold, best_hit_threshold)\n"
   ]
  },
  {
   "cell_type": "code",
   "execution_count": 93,
   "metadata": {},
   "outputs": [
    {
     "name": "stdout",
     "output_type": "stream",
     "text": [
      "Number of multi-alingments kept: 1631\n",
      "Number of unique alingments kept: 1220\n",
      "11305\n",
      "Total N mapped markers: 2851\n",
      "N scaffolds mapped to: 1374\n",
      "N scaffolds with >5 mappings: 116\n",
      "N loci on retained scaffolds: 890\n",
      "Proportion of consensus loci: 0.996\n"
     ]
    }
   ],
   "source": [
    "blast_outs_path = \"/home/djeffrie/Data/Genomes/Rtemp_hybrid/Meitriele_Linkage_map/Mapped_tags_fasta/SbfI_blastouts.xml\"\n",
    "linkage_map_path = \"/home/djeffrie/Data/Genomes/Rtemp_hybrid/Meitriele_Linkage_map/LepMap_Fem_linkage_map/map_20_js_19_ordered_InfMask_2_FEMALE_genetic_mapper.dat\"\n",
    "Genome_path = \"/home/djeffrie/Data/Genomes/Rtemp_hybrid/Rana_PB_OM_SCAFFOLDED_and_NOT_SCAFFOLDED_concat.fasta\"\n",
    "N_mappings_min = 5\n",
    "evalue_threshold = 1e-16\n",
    "best_hit_threshold = 1e-5\n",
    "\n",
    "evaluate_mapping_efficiency(blast_outs_path, linkage_map_path, Genome_path, N_mappings_min, evalue_threshold, best_hit_threshold)\n"
   ]
  },
  {
   "cell_type": "code",
   "execution_count": 94,
   "metadata": {},
   "outputs": [
    {
     "name": "stdout",
     "output_type": "stream",
     "text": [
      "Number of multi-alingments kept: 1633\n",
      "Number of unique alingments kept: 1223\n",
      "11305\n",
      "Total N mapped markers: 2856\n",
      "N scaffolds mapped to: 1377\n",
      "N scaffolds with >5 mappings: 116\n",
      "N loci on retained scaffolds: 891\n",
      "Proportion of consensus loci: 0.994\n"
     ]
    }
   ],
   "source": [
    "blast_outs_path = \"/home/djeffrie/Data/Genomes/Rtemp_hybrid/Meitriele_Linkage_map/Mapped_tags_fasta/SbfI_blastouts.xml\"\n",
    "linkage_map_path = \"/home/djeffrie/Data/Genomes/Rtemp_hybrid/Meitriele_Linkage_map/LepMap_Fem_linkage_map/map_20_js_19_ordered_InfMask_2_FEMALE_genetic_mapper.dat\"\n",
    "Genome_path = \"/home/djeffrie/Data/Genomes/Rtemp_hybrid/Rana_PB_OM_SCAFFOLDED_and_NOT_SCAFFOLDED_concat.fasta\"\n",
    "N_mappings_min = 5\n",
    "evalue_threshold = 1e-14\n",
    "best_hit_threshold = 1e-5\n",
    "\n",
    "evaluate_mapping_efficiency(blast_outs_path, linkage_map_path, Genome_path, N_mappings_min, evalue_threshold, best_hit_threshold)\n"
   ]
  },
  {
   "cell_type": "markdown",
   "metadata": {},
   "source": [
    "## Lets plot these results"
   ]
  },
  {
   "cell_type": "code",
   "execution_count": 97,
   "metadata": {},
   "outputs": [
    {
     "data": {
      "image/png": "[encoded data removed]",
      "text/plain": [
       "<matplotlib.figure.Figure at 0x7f4fcd1e0490>"
      ]
     },
     "metadata": {},
     "output_type": "display_data"
    },
    {
     "data": {
      "image/png": "[encoded data removed]",
      "text/plain": [
       "<matplotlib.figure.Figure at 0x7f4fcc82b850>"
      ]
     },
     "metadata": {},
     "output_type": "display_data"
    }
   ],
   "source": [
    "Threshold = [\"1e-5\",\"1e-4\",\"1e-3\",\"1e-2\",\"1e-1\"]\n",
    "colours = [\"blue\",\"green\",\"orange\",\"red\",\"black\"]\n",
    "N_mapped_markers = [2843,2900,3411,3654,4864]\n",
    "N_scaffolds_hit = [1371,1390,1610,1711,2191]\n",
    "Accuracy = [0.996,0.996,0.993,0.989,0.976]\n",
    "\n",
    "fig = plt.figure(figsize=(30,10))\n",
    "for i in range(5):\n",
    "    plt.scatter(N_mapped_markers[i], Accuracy[i], c=colours[i], label = Threshold[i], s = 100)\n",
    "\n",
    "plt.title(\"Number of mapped markers Vs accuracy for different 'Difference thresholds'\", fontsize = 20)\n",
    "plt.xlabel(\"N markers mapped\", fontsize = 15)\n",
    "plt.ylabel(\"Accuracy\", fontsize = 15)\n",
    "\n",
    "plt.legend()\n",
    "plt.show()\n",
    "\n",
    "fig = plt.figure(figsize=(30,10))\n",
    "for i in range(5):\n",
    "    plt.scatter(N_scaffolds_hit[i], Accuracy[i], c=colours[i], label = Threshold[i], s = 100)\n",
    "\n",
    "plt.title(\"Number of scaffolds hit Vs accuracy for different 'Difference thresholds'\", fontsize = 20)\n",
    "plt.xlabel(\"N scaffolds hit\", fontsize = 15)\n",
    "plt.ylabel(\"Accuracy\", fontsize = 15)\n",
    "\n",
    "plt.legend()\n",
    "plt.show()\n"
   ]
  },
  {
   "cell_type": "markdown",
   "metadata": {},
   "source": [
    "## Summary"
   ]
  },
  {
   "cell_type": "markdown",
   "metadata": {},
   "source": [
    "So it looks like the abosolute e-value doesn't do much. Its the threshold difference that does the most. And its surprising how low I can go with it. Even using 1e-1 difference, the rate of consensus is still 97.6%. So how significant is a 2.4% error rate? That means that, on a scaffold with 100 tags, 2-3 of them will be wrongly mapped. In this case though ALLMAPS would surely anchor them correctly. But of course, most scaffolds are too small to have this number, some will have just one or two mappings. In those with just one, about 2.4% of them will be wrongly ordered. Which isn't ideal. \n",
    "\n",
    "Given that the real drop in accuracy doesn't occur until we go from 1e-3 down to 1e-2, I will stick with the 1e-3 threshold going forward into the final marker mappings. Notice that this retains >1000 extra scaffolds! A pretty worthwhile test afterall! \n"
   ]
  }
 ],
 "metadata": {
  "kernelspec": {
   "display_name": "Python 2",
   "language": "python",
   "name": "python2"
  },
  "language_info": {
   "codemirror_mode": {
    "name": "ipython",
    "version": 2
   },
   "file_extension": ".py",
   "mimetype": "text/x-python",
   "name": "python",
   "nbconvert_exporter": "python",
   "pygments_lexer": "ipython2",
   "version": "2.7.14"
  }
 },
 "nbformat": 4,
 "nbformat_minor": 2
}
