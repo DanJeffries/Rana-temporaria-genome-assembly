{
 "cells": [
  {
   "cell_type": "markdown",
   "metadata": {},
   "source": [
    "## Making alternative masked genome versions"
   ]
  },
  {
   "cell_type": "markdown",
   "metadata": {},
   "source": [
    "This genome is very cumbersome to work with in large part due to its highly repetitive nature. One way around this is to repeat mask the genome. \n",
    "\n",
    "I will soon do this properly, using a pipeline which not only identifies repeats but also classifies them. However this is a lengthy proccess. So first I wanted to use a preliminary mask made by the software \"RED\". Its a nice program using machine learning, and importantly its very quick. It masked the entire All_inclusive assembly in just a few hours. \n",
    "\n",
    "However, instead of repeating this masking for the separated assembly, I can just use the mask which was made using the whole assembly. This has the advantage of saving time, but also, things that are masked in the All_inclusive assembly may not be masked in the Primaries assembly for example, because many of the repeat copies will have been removed from that assembly. \n",
    "\n",
    "So here, I will go through the masked All_inclusive assembly, and just output all of the PRIM scaffolds or Chr scaffolds which are already masked. I can then run BUSCO on these. "
   ]
  },
  {
   "cell_type": "code",
   "execution_count": 1,
   "metadata": {},
   "outputs": [],
   "source": [
    "from Bio import SeqIO"
   ]
  },
  {
   "cell_type": "code",
   "execution_count": 57,
   "metadata": {},
   "outputs": [
    {
     "name": "stdout",
     "output_type": "stream",
     "text": [
      "9629\n"
     ]
    }
   ],
   "source": [
    "primaries = []\n",
    "primaries_found = []\n",
    "\n",
    "for record in SeqIO.parse(open(\"/home/djeffrie/Data/Genomes/Rtemp_hybrid/Assembly/ANCHORED_PURGED_ASSEMBLY/Separated/Rtemp_primaries.fasta\", 'r'), 'fasta'):\n",
    "    primaries.append(record.name)\n",
    "    \n",
    "    \n",
    "new_masked_primaries = open(\"/home/djeffrie/Data/Genomes/Rtemp_hybrid/Assembly/ANCHORED_PURGED_ASSEMBLY/Masked/Primaries/Anchored_purged_primaries_softmasked.fasta\", 'w')\n",
    "\n",
    "count = 0\n",
    "for record in SeqIO.parse(open(\"/home/djeffrie/Data/Genomes/Rtemp_hybrid/Assembly/ANCHORED_PURGED_ASSEMBLY/Masked/All_inclusive/REDmasked_anchored_purged_allscaffs.softmasked.fa\", 'r'), 'fasta'):\n",
    "    \n",
    "    if record.name in primaries:\n",
    "        SeqIO.write(record, new_masked_primaries, \"fasta\")\n",
    "        count += 1\n",
    "        primaries_found.append(record.name)\n",
    "        \n",
    "new_masked_primaries.close()\n",
    "print count"
   ]
  },
  {
   "cell_type": "markdown",
   "metadata": {},
   "source": [
    "Note that there are some contigs missing, but I think these were removed at the PurgHaplotigs stage because they were so small. I think they were created by the scaffolding step using the OM data. You can see below from the subseq coordinates, in some cases they are barely 50bp long. So pretty useless anyway. "
   ]
  },
  {
   "cell_type": "code",
   "execution_count": 55,
   "metadata": {},
   "outputs": [
    {
     "name": "stdout",
     "output_type": "stream",
     "text": [
      "000020F|quiver_subseq_2557464:2557523_obj\n",
      "000125F|quiver_subseq_1262907:1262966_obj\n",
      "000254F|quiver_subseq_1032508:1032567_obj\n",
      "000262F|quiver_subseq_1105434:1105493_obj\n",
      "000601F|quiver_subseq_929557:929616_obj\n",
      "000763F|quiver_subseq_581820:581879_obj\n",
      "000900F|quiver_subseq_433831:433890_obj\n",
      "001056F|quiver_subseq_904793:904852_obj\n",
      "001172F|quiver_subseq_473933:473992_obj\n",
      "001535F|quiver_subseq_439772:439831_obj\n",
      "001788F|quiver_subseq_693229:693288_obj\n",
      "002063F|quiver_obj\n",
      "002128F|quiver_subseq_362181:362240_obj\n",
      "002558F|quiver_subseq_333519:333578_obj\n",
      "002580F|quiver_subseq_284192:284251_obj\n",
      "002892F|quiver_subseq_417097:417156_obj\n",
      "002920F|quiver_subseq_304894:304953_obj\n",
      "003378F|quiver_subseq_235073:235089_obj\n",
      "003639F|quiver_subseq_162775:162834_obj\n",
      "003853F|quiver_subseq_311444:312218_obj\n",
      "004648F|quiver_subseq_250088:250147_obj\n",
      "004781F|quiver_subseq_100949:101008_obj\n",
      "005800F|quiver_subseq_91828:91887_obj\n",
      "007403F|quiver_subseq_125792:125851_obj\n",
      "021771F|quiver_obj\n",
      "021773F|quiver_obj\n",
      "021783F|quiver_obj\n",
      "021787F|quiver_obj\n",
      "021788F|quiver_obj\n",
      "021789F|quiver_obj\n"
     ]
    }
   ],
   "source": [
    "for i in primaries:\n",
    "    if i not in primaries_found:\n",
    "        print i"
   ]
  },
  {
   "cell_type": "markdown",
   "metadata": {},
   "source": [
    "Finally, I will make a version containing just the chromosome scaffolds. "
   ]
  },
  {
   "cell_type": "code",
   "execution_count": null,
   "metadata": {},
   "outputs": [],
   "source": [
    "chroms = open(\"/home/djeffrie/Data/Genomes/Rtemp_hybrid/Assembly/ANCHORED_PURGED_ASSEMBLY/Chromosomes/Rtemp_anchored_scaffolds.fasta\", 'w')\n",
    "\n",
    "for record in SeqIO.parse(open(\"/home/djeffrie/Data/Genomes/Rtemp_hybrid/Assembly/ANCHORED_PURGED_ASSEMBLY/Masked/All_inclusive/REDmasked_anchored_purged_allscaffs.softmasked.fa\", 'r'), 'fasta'):\n",
    "    \n",
    "    if \"chr\" in record.name:\n",
    "        SeqIO.write(record, chroms, \"fasta\")\n",
    "        \n",
    "chroms.close()\n"
   ]
  },
  {
   "cell_type": "markdown",
   "metadata": {},
   "source": [
    "Ok, so the versions will the preliminary masks are made. I will run BUSCO and bbstats on these. "
   ]
  }
 ],
 "metadata": {
  "kernelspec": {
   "display_name": "Python 2",
   "language": "python",
   "name": "python2"
  },
  "language_info": {
   "codemirror_mode": {
    "name": "ipython",
    "version": 2
   },
   "file_extension": ".py",
   "mimetype": "text/x-python",
   "name": "python",
   "nbconvert_exporter": "python",
   "pygments_lexer": "ipython2",
   "version": "2.7.14"
  }
 },
 "nbformat": 4,
 "nbformat_minor": 2
}
