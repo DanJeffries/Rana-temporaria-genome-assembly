{
 "cells": [
  {
   "cell_type": "markdown",
   "metadata": {},
   "source": [
    "## Dealing with heterozygosity in the genome assembly"
   ]
  },
  {
   "cell_type": "markdown",
   "metadata": {},
   "source": [
    "Here I want, ultimately, to be able to divid the scaffolds and contigs in the genome assembly into either haploid sections of the genome, or diploid, where I know the primary and alternative contig pairs at the heterozygous positions.\n",
    "\n",
    "In practice I am never going to get 100% of these, or get 100% of them right. But I will try my best. \n",
    "\n",
    "Remember we are aiming for a genome size somewhere around 4.5Gb, so anything around that I think would be a success. "
   ]
  },
  {
   "cell_type": "code",
   "execution_count": null,
   "metadata": {},
   "outputs": [],
   "source": []
  }
 ],
 "metadata": {
  "kernelspec": {
   "display_name": "Python 2",
   "language": "python",
   "name": "python2"
  },
  "language_info": {
   "codemirror_mode": {
    "name": "ipython",
    "version": 2
   },
   "file_extension": ".py",
   "mimetype": "text/x-python",
   "name": "python",
   "nbconvert_exporter": "python",
   "pygments_lexer": "ipython2",
   "version": "2.7.14"
  }
 },
 "nbformat": 4,
 "nbformat_minor": 2
}
